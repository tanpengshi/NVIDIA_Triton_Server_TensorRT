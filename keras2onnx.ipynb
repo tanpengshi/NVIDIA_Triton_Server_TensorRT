{
 "cells": [
  {
   "cell_type": "code",
   "execution_count": 1,
   "id": "a985e8ba",
   "metadata": {},
   "outputs": [],
   "source": [
    "import onnx, tf2onnx\n",
    "\n",
    "from tensorflow.keras.applications import ResNet50"
   ]
  },
  {
   "cell_type": "code",
   "execution_count": 2,
   "id": "5fc5f99f",
   "metadata": {},
   "outputs": [],
   "source": [
    "BATCH_SIZE = 32\n",
    "model = ResNet50(weights='imagenet')"
   ]
  },
  {
   "cell_type": "code",
   "execution_count": 3,
   "id": "18fd9f33",
   "metadata": {},
   "outputs": [
    {
     "name": "stdout",
     "output_type": "stream",
     "text": [
      "WARNING:tensorflow:Compiled the loaded model, but the compiled metrics have yet to be built. `model.compile_metrics` will be empty until you train or evaluate the model.\n"
     ]
    },
    {
     "name": "stderr",
     "output_type": "stream",
     "text": [
      "WARNING:absl:Found untraced functions such as _jit_compiled_convolution_op, _jit_compiled_convolution_op, _jit_compiled_convolution_op, _jit_compiled_convolution_op, _jit_compiled_convolution_op while saving (showing 5 of 53). These functions will not be directly callable after loading.\n"
     ]
    },
    {
     "name": "stdout",
     "output_type": "stream",
     "text": [
      "INFO:tensorflow:Assets written to: keras_model\\assets\n"
     ]
    },
    {
     "name": "stderr",
     "output_type": "stream",
     "text": [
      "INFO:tensorflow:Assets written to: keras_model\\assets\n",
      "C:\\Users\\Alvin\\Anaconda3\\lib\\runpy.py:127: RuntimeWarning: 'tf2onnx.convert' found in sys.modules after import of package 'tf2onnx', but prior to execution of 'tf2onnx.convert'; this may result in unpredictable behaviour\n",
      "  warn(RuntimeWarning(msg))\n",
      "2022-12-14 15:01:04,451 - WARNING - '--tag' not specified for saved_model. Using --tag serve\n",
      "2022-12-14 15:01:07,763 - INFO - Signatures found in model: [serving_default].\n",
      "2022-12-14 15:01:07,763 - WARNING - '--signature_def' not specified, using first signature: serving_default\n",
      "2022-12-14 15:01:07,764 - INFO - Output names: ['predictions']\n",
      "WARNING:tensorflow:From C:\\Users\\Alvin\\Anaconda3\\Lib\\site-packages\\tf2onnx\\tf_loader.py:715: extract_sub_graph (from tensorflow.python.framework.graph_util_impl) is deprecated and will be removed in a future version.\n",
      "Instructions for updating:\n",
      "Use `tf.compat.v1.graph_util.extract_sub_graph`\n",
      "2022-12-14 15:01:10,058 - WARNING - From C:\\Users\\Alvin\\Anaconda3\\Lib\\site-packages\\tf2onnx\\tf_loader.py:715: extract_sub_graph (from tensorflow.python.framework.graph_util_impl) is deprecated and will be removed in a future version.\n",
      "Instructions for updating:\n",
      "Use `tf.compat.v1.graph_util.extract_sub_graph`\n",
      "2022-12-14 15:01:11,944 - INFO - Using tensorflow=2.10.0, onnx=1.12.0, tf2onnx=1.12.1/b6d590\n",
      "2022-12-14 15:01:11,944 - INFO - Using opset <onnx, 13>\n",
      "2022-12-14 15:01:12,810 - INFO - Computed 0 values for constant folding\n",
      "2022-12-14 15:01:13,760 - INFO - Optimizing ONNX model\n",
      "2022-12-14 15:01:17,271 - INFO - After optimization: Add -1 (18->17), BatchNormalization -53 (53->0), Const -161 (271->110), GlobalAveragePool +1 (0->1), Identity -2 (2->0), ReduceMean -1 (1->0), Squeeze +1 (0->1), Transpose -213 (214->1)\n",
      "2022-12-14 15:01:17,493 - INFO - \n",
      "2022-12-14 15:01:17,493 - INFO - Successfully converted TensorFlow model keras_model to ONNX\n",
      "2022-12-14 15:01:17,493 - INFO - Model inputs: ['input_1']\n",
      "2022-12-14 15:01:17,493 - INFO - Model outputs: ['predictions']\n",
      "2022-12-14 15:01:17,493 - INFO - ONNX model is saved at temp.onnx\n"
     ]
    }
   ],
   "source": [
    "model.save('keras_model')\n",
    "!python -m tf2onnx.convert --saved-model keras_model --output temp.onnx"
   ]
  },
  {
   "cell_type": "code",
   "execution_count": 4,
   "id": "9ea0ad3c",
   "metadata": {},
   "outputs": [],
   "source": [
    "onnx_model = onnx.load_model('temp.onnx')\n",
    "\n",
    "inputs = onnx_model.graph.input\n",
    "for input in inputs:\n",
    "    dim1 = input.type.tensor_type.shape.dim[0]\n",
    "    dim1.dim_value = BATCH_SIZE\n",
    "    \n",
    "model_name = \"model.onnx\"\n",
    "onnx.save_model(onnx_model, model_name)"
   ]
  }
 ],
 "metadata": {
  "kernelspec": {
   "display_name": "Python 3 (ipykernel)",
   "language": "python",
   "name": "python3"
  },
  "language_info": {
   "codemirror_mode": {
    "name": "ipython",
    "version": 3
   },
   "file_extension": ".py",
   "mimetype": "text/x-python",
   "name": "python",
   "nbconvert_exporter": "python",
   "pygments_lexer": "ipython3",
   "version": "3.9.12"
  }
 },
 "nbformat": 4,
 "nbformat_minor": 5
}
